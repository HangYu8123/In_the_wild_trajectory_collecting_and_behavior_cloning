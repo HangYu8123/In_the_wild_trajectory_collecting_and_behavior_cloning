{
 "cells": [
  {
   "cell_type": "code",
   "execution_count": 10,
   "metadata": {},
   "outputs": [],
   "source": [
    "#head files for data analysis\n",
    "import pandas as pd\n",
    "import numpy as np\n",
    "import matplotlib.pyplot as plt\n",
    "import seaborn as sns\n",
    "import os\n",
    "import scipy.stats as stats\n",
    "from mpl_toolkits.mplot3d import Axes3D"
   ]
  },
  {
   "cell_type": "code",
   "execution_count": 18,
   "metadata": {},
   "outputs": [
    {
     "name": "stdout",
     "output_type": "stream",
     "text": [
      "31\n",
      "31\n",
      "31\n",
      "31\n",
      "13051\n"
     ]
    }
   ],
   "source": [
    "#read trajectories from folder bags\n",
    "\n",
    "jar_pose = [[0.5106467604637146, 0.3306705355644226, 0.11027072370052338],\n",
    "           [0.3776182532310486, 0.34300878643989563, 0.11026414483785629],\n",
    "[0.26126930117607117, 0.339559942483902, 0.11066635698080063],\n",
    "[0.12617428600788116, 0.34380239248275757, 0.1104840412735939],\n",
    "[0.3326364755630493, -0.13827505707740784, 0.13367746770381927]]\n",
    "\n",
    "ice_cream_pose = [0.3326364755630493, -0.13827505707740784, 0.13367746770381927]\n",
    "nop = 39\n",
    "trajectories = []\n",
    "progresses = []\n",
    "steps = []\n",
    "scalars = []\n",
    "ind = []\n",
    "jars = []\n",
    "for i in range(nop):\n",
    "    #print(i)\n",
    "    traj = []\n",
    "    step = []\n",
    "    progress = []\n",
    "    scalar = []\n",
    "    jar = []\n",
    "    \n",
    "    pose_path = \"bags/user_\"+str(i)+\"/0_poses.txt\"\n",
    "    step_path = \"bags/user_\"+str(i)+\"/0_step.txt\"\n",
    "    progress_path = \"bags/user_\"+str(i)+\"/0_progress.txt\"\n",
    "    scalar_path = \"bags/user_\"+str(i)+\"/0_scalar.txt\"\n",
    "    jars_path = \"bags/user_\"+str(i)+\"/jar_pose.txt\"\n",
    "    if not os.path.exists(pose_path) or not os.path.exists(step_path) or not os.path.exists(progress_path) or not os.path.exists(scalar_path):\n",
    "        continue\n",
    "    ind.append(i)\n",
    "    with open(pose_path, 'r') as file:\n",
    "        for line in file:\n",
    "            x, y, z = map(float, line.strip().split())\n",
    "            traj.append([x, y, z])\n",
    "    trajectories.append(traj)\n",
    "\n",
    "    with open(step_path, 'r') as file:\n",
    "        for line in file:\n",
    "            step.append(int(line.strip()))\n",
    "    steps.append(step)\n",
    "\n",
    "    with open(progress_path, 'r') as file:\n",
    "        for line in file:\n",
    "            progress.append(int(line.strip()))\n",
    "    progresses.append(progress)\n",
    "\n",
    "    with open(scalar_path, 'r') as file:\n",
    "        for line in file:\n",
    "            scalar.append(int(line.strip()))\n",
    "    scalars.append(scalar)\n",
    "\n",
    "    with open(jars_path, 'r') as file:\n",
    "        lines = file.readlines()\n",
    "    # Process each line\n",
    "    for line in lines:\n",
    "        if \"Jar position\" in line:\n",
    "            # Extract and append jar position number\n",
    "            jar_position = int(line.strip().split(':')[1])\n",
    "            jar.append(jar_position)\n",
    "        else:\n",
    "            # Extract coordinates\n",
    "            coords = line.strip().split(',')\n",
    "            for coord in coords:\n",
    "                # Extract and append each coordinate value\n",
    "                value = float(coord.split(':')[1].strip())\n",
    "                jar.append(value)\n",
    "    jars.append(jar)\n",
    "\n",
    "    \n",
    "print(len(trajectories))\n",
    "print(len(progresses))\n",
    "print(len(steps))\n",
    "print(len(scalars))\n",
    "print(np.sum(steps))"
   ]
  },
  {
   "cell_type": "code",
   "execution_count": 12,
   "metadata": {},
   "outputs": [],
   "source": [
    "delta_progresses = []\n",
    "for i in range(len(progresses)):\n",
    "    delta_progress = np.diff(progresses[i], prepend=0)\n",
    "    delta_progresses.append(delta_progress)\n"
   ]
  },
  {
   "cell_type": "code",
   "execution_count": 17,
   "metadata": {},
   "outputs": [],
   "source": [
    "for i in range(4):\n",
    "    with open(str(i)+\"_jar.txt\", 'w') as file:\n",
    "        for j in range(len(trajectories)):\n",
    "            if jars[j][0] == i and progresses[j][9] > 90:\n",
    "                for k in range(10):\n",
    "                    if delta_progresses[j][k] >=0 : \n",
    "                        start = int(np.sum(steps[j][:k]))\n",
    "                        end = int(np.sum(steps[j][:k+1]))\n",
    "                        #print(start, end)\n",
    "                        for t in range(start, end):\n",
    "                            file.write(str(trajectories[j][t][0]) + \" \" + str(trajectories[j][t][1]) + \" \" + str(trajectories[j][t][2]) + \"\\n\") \n",
    "    \n",
    "    file.close()\n",
    "\n",
    "\n"
   ]
  }
 ],
 "metadata": {
  "kernelspec": {
   "display_name": "Python 3",
   "language": "python",
   "name": "python3"
  },
  "language_info": {
   "codemirror_mode": {
    "name": "ipython",
    "version": 3
   },
   "file_extension": ".py",
   "mimetype": "text/x-python",
   "name": "python",
   "nbconvert_exporter": "python",
   "pygments_lexer": "ipython3",
   "version": "3.8.10"
  }
 },
 "nbformat": 4,
 "nbformat_minor": 2
}
